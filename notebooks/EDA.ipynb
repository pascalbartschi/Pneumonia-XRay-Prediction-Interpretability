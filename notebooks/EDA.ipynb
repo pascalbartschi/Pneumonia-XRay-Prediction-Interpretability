{
 "cells": [
  {
   "cell_type": "markdown",
   "id": "9df7e673",
   "metadata": {},
   "source": [
    "# Exploratory Data Analysis (EDA)\n",
    "This notebook performs EDA on the Chest X-Ray Images (Pneumonia) dataset."
   ]
  },
  {
   "cell_type": "code",
   "execution_count": null,
   "id": "ae342f46",
   "metadata": {},
   "outputs": [],
   "source": [
    "# Enable autoreload for imports\n",
    "%load_ext autoreload\n",
    "%autoreload 2\n",
    "\n",
    "# Import required libraries\n",
    "import pathlib\n",
    "import pandas as pd\n",
    "import matplotlib.pyplot as plt\n",
    "import seaborn as sns\n",
    "\n",
    "\n",
    "from config import config"
   ]
  },
  {
   "cell_type": "markdown",
   "id": "84eca226",
   "metadata": {},
   "source": [
    "## Set the data path\n",
    "Use `pathlib` to define the path to the dataset."
   ]
  },
  {
   "cell_type": "code",
   "execution_count": 7,
   "id": "f2e3c130",
   "metadata": {},
   "outputs": [
    {
     "name": "stdout",
     "output_type": "stream",
     "text": [
      "Data path: data/\n"
     ]
    }
   ],
   "source": [
    "# Define the data path\n",
    "print(f\"Data path: {config.datapath}\")"
   ]
  },
  {
   "cell_type": "markdown",
   "id": "ab53468c",
   "metadata": {},
   "source": [
    "## Load and Explore the Data\n",
    "Load the dataset and perform basic exploration."
   ]
  },
  {
   "cell_type": "code",
   "execution_count": null,
   "id": "694295cb",
   "metadata": {},
   "outputs": [],
   "source": [
    "# Example: Load a CSV file (if applicable)\n",
    "# Replace 'example.csv' with the actual dataset file name\n",
    "csv_file = data_path / 'example.csv'\n",
    "if csv_file.exists():\n",
    "    data = pd.read_csv(csv_file)\n",
    "    print(data.head())\n",
    "else:\n",
    "    print(f\"File not found: {csv_file}\")"
   ]
  }
 ],
 "metadata": {
  "kernelspec": {
   "display_name": "py311",
   "language": "python",
   "name": "python3"
  },
  "language_info": {
   "codemirror_mode": {
    "name": "ipython",
    "version": 3
   },
   "file_extension": ".py",
   "mimetype": "text/x-python",
   "name": "python",
   "nbconvert_exporter": "python",
   "pygments_lexer": "ipython3",
   "version": "3.11.3"
  }
 },
 "nbformat": 4,
 "nbformat_minor": 5
}
